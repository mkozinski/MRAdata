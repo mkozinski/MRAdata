{
 "cells": [
  {
   "cell_type": "code",
   "execution_count": null,
   "metadata": {},
   "outputs": [],
   "source": [
    "dir =\"data/img_cut/\"\n",
    "lmipdir=\"data/lbl_MIP_cut/\"\n",
    "ldir=\"data/lbl_cut/\""
   ]
  },
  {
   "cell_type": "code",
   "execution_count": null,
   "metadata": {},
   "outputs": [],
   "source": [
    "function show(vol)\n",
    "    local v1=vol:max(2):squeeze()\n",
    "    local v2=vol:max(3):squeeze()\n",
    "    local v3=vol:max(4):squeeze()\n",
    "    itorch.image(v1)\n",
    "    itorch.image(v2)\n",
    "    itorch.image(v3)\n",
    "end"
   ]
  },
  {
   "cell_type": "code",
   "execution_count": null,
   "metadata": {},
   "outputs": [],
   "source": [
    "function show_lbl(lbl)\n",
    "    local l=lbl:clone():float():zero()\n",
    "    l:maskedFill(lbl:eq(0),0.5)\n",
    "    l:maskedFill(lbl:eq(2),1)\n",
    "    local l1=l:max(1):squeeze()\n",
    "    local l2=l:max(2):squeeze()\n",
    "    local l3=l:max(3):squeeze()\n",
    "    itorch.image(l1)\n",
    "    itorch.image(l2)\n",
    "    itorch.image(l3)\n",
    "end"
   ]
  },
  {
   "cell_type": "code",
   "execution_count": null,
   "metadata": {},
   "outputs": [],
   "source": [
    "function show_miplbl(lbl)\n",
    "    l1=lbl[1]:clone():float():zero()\n",
    "    l2=lbl[2]:clone():float():zero()\n",
    "    l3=lbl[3]:clone():float():zero()\n",
    "    l1:maskedFill(lbl[1]:eq(0),0.5)\n",
    "    l1:maskedFill(lbl[1]:eq(2),1)\n",
    "    l2:maskedFill(lbl[2]:eq(0),0.5)\n",
    "    l2:maskedFill(lbl[2]:eq(2),1)\n",
    "    l3:maskedFill(lbl[3]:eq(0),0.5)\n",
    "    l3:maskedFill(lbl[3]:eq(2),1)\n",
    "    itorch.image(l1)\n",
    "    itorch.image(l2)\n",
    "    itorch.image(l3)\n",
    "end"
   ]
  },
  {
   "cell_type": "code",
   "execution_count": null,
   "metadata": {
    "scrolled": false
   },
   "outputs": [],
   "source": [
    "for f in paths.iterfiles(dir) do\n",
    "    fn=paths.concat(dir,f)\n",
    "    fl=paths.concat(ldir,f)\n",
    "    fm=paths.concat(lmipdir,f)\n",
    "    v=torch.load(fn)\n",
    "    l=torch.load(fl)\n",
    "    m=torch.load(fm)\n",
    "    print(v:min(),v:max(),v:type())\n",
    "    show(v)\n",
    "    show_lbl(l)\n",
    "    show_miplbl(m)\n",
    "end"
   ]
  },
  {
   "cell_type": "code",
   "execution_count": null,
   "metadata": {},
   "outputs": [],
   "source": []
  }
 ],
 "metadata": {
  "kernelspec": {
   "display_name": "iTorch",
   "language": "lua",
   "name": "itorch"
  },
  "language_info": {
   "name": "lua",
   "version": "5.1"
  }
 },
 "nbformat": 4,
 "nbformat_minor": 1
}
